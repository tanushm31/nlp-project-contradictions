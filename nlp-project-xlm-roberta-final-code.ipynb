{
 "cells": [
  {
   "cell_type": "code",
   "execution_count": 1,
   "metadata": {
    "_cell_guid": "b1076dfc-b9ad-4769-8c92-a6c4dae69d19",
    "_uuid": "8f2839f25d086af736a60e9eeb907d3b93b6e0e5",
    "execution": {
     "iopub.execute_input": "2021-12-06T06:48:21.832339Z",
     "iopub.status.busy": "2021-12-06T06:48:21.831777Z",
     "iopub.status.idle": "2021-12-06T06:48:22.822777Z",
     "shell.execute_reply": "2021-12-06T06:48:22.821850Z",
     "shell.execute_reply.started": "2021-12-06T06:48:21.832222Z"
    }
   },
   "outputs": [],
   "source": [
    "import numpy as np \n",
    "import pandas as pd \n",
    "import matplotlib.pyplot as plt\n",
    "import seaborn as sns\n",
    "from wordcloud import WordCloud, STOPWORDS, ImageColorGenerator\n",
    "\n",
    "import os\n",
    "for dirname, _, filenames in os.walk('/kaggle/input'):\n",
    "    for filename in filenames:\n",
    "        print(os.path.join(dirname, filename))\n"
   ]
  },
  {
   "cell_type": "code",
   "execution_count": null,
   "metadata": {
    "execution": {
     "iopub.execute_input": "2021-11-15T19:17:12.978097Z",
     "iopub.status.busy": "2021-11-15T19:17:12.977765Z",
     "iopub.status.idle": "2021-11-15T19:17:13.198682Z",
     "shell.execute_reply": "2021-11-15T19:17:13.197626Z",
     "shell.execute_reply.started": "2021-11-15T19:17:12.978042Z"
    }
   },
   "outputs": [],
   "source": [
    "train = pd.read_csv(\"../input/contradictory-my-dear-watson/train.csv\")\n",
    "test = pd.read_csv(\"../input/contradictory-my-dear-watson/test.csv\")"
   ]
  },
  {
   "cell_type": "code",
   "execution_count": null,
   "metadata": {
    "execution": {
     "iopub.execute_input": "2021-11-15T19:17:13.20012Z",
     "iopub.status.busy": "2021-11-15T19:17:13.199866Z",
     "iopub.status.idle": "2021-11-15T19:17:23.709871Z",
     "shell.execute_reply": "2021-11-15T19:17:23.708962Z",
     "shell.execute_reply.started": "2021-11-15T19:17:13.20009Z"
    }
   },
   "outputs": [],
   "source": [
    "import tensorflow as tf\n",
    "try:\n",
    "    tpu = tf.distribute.cluster_resolver.TPUClusterResolver()\n",
    "    tf.config.experimental_connect_to_cluster(tpu)\n",
    "    tf.tpu.experimental.initialize_tpu_system(tpu)\n",
    "    strategy = tf.distribute.experimental.TPUStrategy(tpu)\n",
    "except ValueError:\n",
    "    strategy = tf.distribute.get_strategy() # for CPU and single GPU\n",
    "print('Number of replicas:', strategy.num_replicas_in_sync)"
   ]
  },
  {
   "cell_type": "code",
   "execution_count": null,
   "metadata": {
    "execution": {
     "iopub.execute_input": "2021-11-15T19:17:23.711973Z",
     "iopub.status.busy": "2021-11-15T19:17:23.711745Z",
     "iopub.status.idle": "2021-11-15T19:17:23.734891Z",
     "shell.execute_reply": "2021-11-15T19:17:23.73429Z",
     "shell.execute_reply.started": "2021-11-15T19:17:23.711943Z"
    }
   },
   "outputs": [],
   "source": [
    "train.head()\n"
   ]
  },
  {
   "cell_type": "code",
   "execution_count": null,
   "metadata": {
    "execution": {
     "iopub.execute_input": "2021-11-15T19:17:23.737902Z",
     "iopub.status.busy": "2021-11-15T19:17:23.737656Z",
     "iopub.status.idle": "2021-11-15T19:17:23.769967Z",
     "shell.execute_reply": "2021-11-15T19:17:23.768484Z",
     "shell.execute_reply.started": "2021-11-15T19:17:23.737872Z"
    }
   },
   "outputs": [],
   "source": [
    "train.info()\n"
   ]
  },
  {
   "cell_type": "code",
   "execution_count": null,
   "metadata": {
    "execution": {
     "iopub.execute_input": "2021-11-15T19:17:23.77152Z",
     "iopub.status.busy": "2021-11-15T19:17:23.771228Z",
     "iopub.status.idle": "2021-11-15T19:17:23.780347Z",
     "shell.execute_reply": "2021-11-15T19:17:23.779407Z",
     "shell.execute_reply.started": "2021-11-15T19:17:23.77149Z"
    }
   },
   "outputs": [],
   "source": [
    "train.id.nunique()\n"
   ]
  },
  {
   "cell_type": "code",
   "execution_count": null,
   "metadata": {
    "execution": {
     "iopub.execute_input": "2021-11-15T19:17:23.782388Z",
     "iopub.status.busy": "2021-11-15T19:17:23.781746Z",
     "iopub.status.idle": "2021-11-15T19:17:23.789569Z",
     "shell.execute_reply": "2021-11-15T19:17:23.788579Z",
     "shell.execute_reply.started": "2021-11-15T19:17:23.782351Z"
    }
   },
   "outputs": [],
   "source": [
    "train.language.nunique()\n"
   ]
  },
  {
   "cell_type": "code",
   "execution_count": null,
   "metadata": {
    "execution": {
     "iopub.execute_input": "2021-11-15T19:17:23.791101Z",
     "iopub.status.busy": "2021-11-15T19:17:23.790847Z",
     "iopub.status.idle": "2021-11-15T19:17:23.802955Z",
     "shell.execute_reply": "2021-11-15T19:17:23.802221Z",
     "shell.execute_reply.started": "2021-11-15T19:17:23.791049Z"
    }
   },
   "outputs": [],
   "source": [
    "train.language.unique()\n"
   ]
  },
  {
   "cell_type": "code",
   "execution_count": null,
   "metadata": {
    "execution": {
     "iopub.execute_input": "2021-11-15T19:17:23.804726Z",
     "iopub.status.busy": "2021-11-15T19:17:23.803972Z",
     "iopub.status.idle": "2021-11-15T19:17:23.816664Z",
     "shell.execute_reply": "2021-11-15T19:17:23.8161Z",
     "shell.execute_reply.started": "2021-11-15T19:17:23.804672Z"
    }
   },
   "outputs": [],
   "source": [
    "test.head()"
   ]
  },
  {
   "cell_type": "code",
   "execution_count": null,
   "metadata": {
    "execution": {
     "iopub.execute_input": "2021-11-15T19:17:23.819723Z",
     "iopub.status.busy": "2021-11-15T19:17:23.819021Z",
     "iopub.status.idle": "2021-11-15T19:17:24.045895Z",
     "shell.execute_reply": "2021-11-15T19:17:24.044863Z",
     "shell.execute_reply.started": "2021-11-15T19:17:23.819688Z"
    }
   },
   "outputs": [],
   "source": [
    "sns.countplot(x='label',data=train)\n"
   ]
  },
  {
   "cell_type": "code",
   "execution_count": null,
   "metadata": {
    "execution": {
     "iopub.execute_input": "2021-11-15T19:17:24.047523Z",
     "iopub.status.busy": "2021-11-15T19:17:24.047302Z",
     "iopub.status.idle": "2021-11-15T19:17:24.545117Z",
     "shell.execute_reply": "2021-11-15T19:17:24.544409Z",
     "shell.execute_reply.started": "2021-11-15T19:17:24.047496Z"
    }
   },
   "outputs": [],
   "source": [
    "plt.figure(figsize=(15,8))\n",
    "sns.countplot(x='language',data=train)"
   ]
  },
  {
   "cell_type": "code",
   "execution_count": null,
   "metadata": {
    "execution": {
     "iopub.execute_input": "2021-11-15T19:17:24.546235Z",
     "iopub.status.busy": "2021-11-15T19:17:24.54602Z",
     "iopub.status.idle": "2021-11-15T19:17:24.838727Z",
     "shell.execute_reply": "2021-11-15T19:17:24.837835Z",
     "shell.execute_reply.started": "2021-11-15T19:17:24.546212Z"
    }
   },
   "outputs": [],
   "source": [
    "sns.countplot(x='lang_abv',data=train)\n"
   ]
  },
  {
   "cell_type": "code",
   "execution_count": null,
   "metadata": {
    "execution": {
     "iopub.execute_input": "2021-11-15T19:17:24.840578Z",
     "iopub.status.busy": "2021-11-15T19:17:24.840256Z",
     "iopub.status.idle": "2021-11-15T19:17:24.898323Z",
     "shell.execute_reply": "2021-11-15T19:17:24.897417Z",
     "shell.execute_reply.started": "2021-11-15T19:17:24.840537Z"
    }
   },
   "outputs": [],
   "source": [
    "df_train_en = train.loc[train.language=='English'].copy()\n",
    "print(df_train_en.shape)\n",
    "df_train_fr = train.loc[train.language=='French'].copy()\n",
    "print(df_train_fr.shape)\n",
    "df_train_th = train.loc[train.language=='Thai'].copy()\n",
    "print(df_train_th.shape)\n",
    "df_train_tr = train.loc[train.language=='Turkish'].copy()\n",
    "print(df_train_tr.shape)\n",
    "df_train_ur = train.loc[train.language=='Urdu'].copy()\n",
    "print(df_train_ur.shape)\n",
    "df_train_ru = train.loc[train.language=='Russian'].copy()\n",
    "print(df_train_ru.shape)\n",
    "df_train_bg = train.loc[train.language=='Bulgarian'].copy()\n",
    "print(df_train_bg.shape)\n",
    "df_train_de = train.loc[train.language=='German'].copy()\n",
    "print(df_train_de.shape)\n",
    "df_train_ar = train.loc[train.language=='Arabic'].copy()\n",
    "print(df_train_ar.shape)\n",
    "df_train_zh = train.loc[train.language=='Chinese'].copy()\n",
    "print(df_train_zh.shape)\n",
    "df_train_hi = train.loc[train.language=='Hindi'].copy()\n",
    "print(df_train_hi.shape)\n",
    "df_train_sw = train.loc[train.language=='Swahili'].copy()\n",
    "print(df_train_sw.shape)\n",
    "df_train_vi = train.loc[train.language=='Vietnamese'].copy()\n",
    "print(df_train_vi.shape)\n",
    "df_train_es = train.loc[train.language=='Spanish'].copy()\n",
    "print(df_train_es.shape)\n",
    "df_train_ei = train.loc[train.language=='Greek'].copy()\n",
    "print(df_train_ei.shape)"
   ]
  },
  {
   "cell_type": "code",
   "execution_count": null,
   "metadata": {
    "execution": {
     "iopub.execute_input": "2021-11-15T19:17:24.899743Z",
     "iopub.status.busy": "2021-11-15T19:17:24.899499Z",
     "iopub.status.idle": "2021-11-15T19:17:27.470805Z",
     "shell.execute_reply": "2021-11-15T19:17:27.470049Z",
     "shell.execute_reply.started": "2021-11-15T19:17:24.899716Z"
    }
   },
   "outputs": [],
   "source": [
    "text = \" \".join(txt for txt in train.hypothesis)\n",
    "stopwords = set(STOPWORDS)\n",
    "\n",
    "wordcloud = WordCloud(stopwords=stopwords, max_font_size=50, max_words=500,\n",
    "                      width = 600, height = 400,\n",
    "                      background_color=\"white\").generate(text)\n",
    "plt.figure(figsize=(12,8))\n",
    "plt.imshow(wordcloud, interpolation=\"bilinear\")\n",
    "plt.axis(\"off\")\n",
    "plt.show()"
   ]
  },
  {
   "cell_type": "code",
   "execution_count": null,
   "metadata": {
    "execution": {
     "iopub.execute_input": "2021-11-15T19:17:27.472735Z",
     "iopub.status.busy": "2021-11-15T19:17:27.471944Z",
     "iopub.status.idle": "2021-11-15T19:17:30.041554Z",
     "shell.execute_reply": "2021-11-15T19:17:30.040644Z",
     "shell.execute_reply.started": "2021-11-15T19:17:27.472701Z"
    }
   },
   "outputs": [],
   "source": [
    "text = \" \".join(txt for txt in train.hypothesis)\n",
    "stopwords = set(STOPWORDS)\n",
    "\n",
    "wordcloud = WordCloud(stopwords=stopwords, max_font_size=50, max_words=500,\n",
    "                      width = 600, height = 400,\n",
    "                      background_color=\"white\").generate(text)\n",
    "plt.figure(figsize=(12,8))\n",
    "plt.imshow(wordcloud, interpolation=\"bilinear\")\n",
    "plt.axis(\"off\")\n",
    "plt.show()"
   ]
  },
  {
   "cell_type": "code",
   "execution_count": null,
   "metadata": {
    "execution": {
     "iopub.execute_input": "2021-11-15T19:17:30.043616Z",
     "iopub.status.busy": "2021-11-15T19:17:30.042859Z",
     "iopub.status.idle": "2021-11-15T19:17:30.06562Z",
     "shell.execute_reply": "2021-11-15T19:17:30.064939Z",
     "shell.execute_reply.started": "2021-11-15T19:17:30.043572Z"
    }
   },
   "outputs": [],
   "source": [
    "train['premise_len'] = pd.to_numeric(list(map(len, train.premise)))\n",
    "train['hypothesis_len'] = pd.to_numeric(list(map(len, train.hypothesis)))"
   ]
  },
  {
   "cell_type": "code",
   "execution_count": null,
   "metadata": {
    "execution": {
     "iopub.execute_input": "2021-11-15T19:17:30.06816Z",
     "iopub.status.busy": "2021-11-15T19:17:30.06719Z",
     "iopub.status.idle": "2021-11-15T19:17:30.318989Z",
     "shell.execute_reply": "2021-11-15T19:17:30.31825Z",
     "shell.execute_reply.started": "2021-11-15T19:17:30.068088Z"
    }
   },
   "outputs": [],
   "source": [
    "train.premise_len.plot(kind='hist')\n",
    "plt.title('Length of premise')\n",
    "plt.grid()\n",
    "plt.show()"
   ]
  },
  {
   "cell_type": "code",
   "execution_count": null,
   "metadata": {
    "execution": {
     "iopub.execute_input": "2021-11-15T19:17:30.321625Z",
     "iopub.status.busy": "2021-11-15T19:17:30.320946Z",
     "iopub.status.idle": "2021-11-15T19:17:30.54092Z",
     "shell.execute_reply": "2021-11-15T19:17:30.539857Z",
     "shell.execute_reply.started": "2021-11-15T19:17:30.321582Z"
    }
   },
   "outputs": [],
   "source": [
    "train.hypothesis_len.plot(kind='hist')\n",
    "plt.title('Length of hypothesis - Training (English)')\n",
    "plt.grid()\n",
    "plt.show()"
   ]
  },
  {
   "cell_type": "code",
   "execution_count": null,
   "metadata": {
    "execution": {
     "iopub.execute_input": "2021-11-15T19:17:30.542734Z",
     "iopub.status.busy": "2021-11-15T19:17:30.542472Z",
     "iopub.status.idle": "2021-11-15T19:17:32.255475Z",
     "shell.execute_reply": "2021-11-15T19:17:32.254551Z",
     "shell.execute_reply.started": "2021-11-15T19:17:30.5427Z"
    }
   },
   "outputs": [],
   "source": [
    "#!pip install transformers\n",
    "from transformers import TFAutoModel,AutoTokenizer\n",
    "import tensorflow as tf\n",
    "#!pip install sentencepiece\n"
   ]
  },
  {
   "cell_type": "code",
   "execution_count": null,
   "metadata": {
    "execution": {
     "iopub.execute_input": "2021-11-15T19:17:32.2568Z",
     "iopub.status.busy": "2021-11-15T19:17:32.256577Z",
     "iopub.status.idle": "2021-11-15T19:17:40.051988Z",
     "shell.execute_reply": "2021-11-15T19:17:40.050938Z",
     "shell.execute_reply.started": "2021-11-15T19:17:32.256772Z"
    }
   },
   "outputs": [],
   "source": [
    "tokenizer=AutoTokenizer.from_pretrained('joeddav/xlm-roberta-large-xnli')\n",
    "train_enc=tokenizer.batch_encode_plus(train[['premise','hypothesis']].values.tolist(),padding='max_length',max_length=100,truncation=True,return_attention_mask=True)\n",
    "test_enc=tokenizer.batch_encode_plus(test[['premise','hypothesis']].values.tolist(),padding='max_length',max_length=100,truncation=True,return_attention_mask=True)\n",
    "train_tf1=tf.convert_to_tensor(train_enc['input_ids'],dtype=tf.int32)\n",
    "train_tf2=tf.convert_to_tensor(train_enc['attention_mask'],dtype=tf.int32)\n",
    "train_input={'input_word_ids':train_tf1,'input_mask':train_tf2}\n",
    "test_tf1=tf.convert_to_tensor(test_enc['input_ids'],dtype=tf.int32)\n",
    "test_tf2=tf.convert_to_tensor(test_enc['attention_mask'],dtype=tf.int32)\n",
    "test_input={'input_word_ids':test_tf1,'input_mask':test_tf2}"
   ]
  },
  {
   "cell_type": "code",
   "execution_count": null,
   "metadata": {
    "execution": {
     "iopub.execute_input": "2021-11-15T19:17:40.053536Z",
     "iopub.status.busy": "2021-11-15T19:17:40.053247Z",
     "iopub.status.idle": "2021-11-15T19:17:40.059957Z",
     "shell.execute_reply": "2021-11-15T19:17:40.059084Z",
     "shell.execute_reply.started": "2021-11-15T19:17:40.0535Z"
    }
   },
   "outputs": [],
   "source": [
    "train_enc[100]"
   ]
  },
  {
   "cell_type": "code",
   "execution_count": null,
   "metadata": {
    "execution": {
     "iopub.execute_input": "2021-11-15T19:17:40.061475Z",
     "iopub.status.busy": "2021-11-15T19:17:40.061171Z",
     "iopub.status.idle": "2021-11-15T19:19:49.002818Z",
     "shell.execute_reply": "2021-11-15T19:19:49.001966Z",
     "shell.execute_reply.started": "2021-11-15T19:17:40.061438Z"
    }
   },
   "outputs": [],
   "source": [
    "with strategy.scope():\n",
    "    input_ids = tf.keras.Input(shape = (100,), dtype = tf.int32,name='input_word_ids') \n",
    "    input_mask=tf.keras.Input(shape=(100,),dtype=tf.int32,name='input_mask')    \n",
    "    roberta = TFAutoModel.from_pretrained('joeddav/xlm-roberta-large-xnli')\n",
    "    roberta = roberta([input_ids,input_mask])[0]\n",
    "    out = tf.keras.layers.GlobalAveragePooling1D()(roberta)\n",
    "    out = tf.keras.layers.Dense(3, activation = 'softmax')(out)\n",
    "    model = tf.keras.Model(inputs = [input_ids,input_mask], outputs = out)\n",
    "    model.compile(\n",
    "                        optimizer = tf.keras.optimizers.Adam(lr = 1e-5), \n",
    "                        loss = 'sparse_categorical_crossentropy', \n",
    "                        metrics = ['accuracy']) \n",
    "    model.summary()"
   ]
  },
  {
   "cell_type": "code",
   "execution_count": null,
   "metadata": {
    "execution": {
     "iopub.execute_input": "2021-11-15T19:19:49.006033Z",
     "iopub.status.busy": "2021-11-15T19:19:49.0057Z",
     "iopub.status.idle": "2021-11-15T19:19:49.013045Z",
     "shell.execute_reply": "2021-11-15T19:19:49.012Z",
     "shell.execute_reply.started": "2021-11-15T19:19:49.005988Z"
    }
   },
   "outputs": [],
   "source": [
    "strategy.num_replicas_in_sync\n"
   ]
  },
  {
   "cell_type": "code",
   "execution_count": null,
   "metadata": {
    "execution": {
     "iopub.execute_input": "2021-11-15T19:19:49.015034Z",
     "iopub.status.busy": "2021-11-15T19:19:49.014728Z",
     "iopub.status.idle": "2021-11-15T19:25:38.656241Z",
     "shell.execute_reply": "2021-11-15T19:25:38.655333Z",
     "shell.execute_reply.started": "2021-11-15T19:19:49.014995Z"
    }
   },
   "outputs": [],
   "source": [
    "es=tf.keras.callbacks.EarlyStopping(patience=2,restore_best_weights=True)\n",
    "history=model.fit(train_input,train.label,validation_split=0.2,epochs=20,batch_size=10*strategy.num_replicas_in_sync,callbacks=[es],verbose=1)"
   ]
  },
  {
   "cell_type": "code",
   "execution_count": null,
   "metadata": {
    "execution": {
     "iopub.execute_input": "2021-11-15T19:49:44.22892Z",
     "iopub.status.busy": "2021-11-15T19:49:44.228654Z",
     "iopub.status.idle": "2021-11-15T19:49:44.233046Z",
     "shell.execute_reply": "2021-11-15T19:49:44.231945Z",
     "shell.execute_reply.started": "2021-11-15T19:49:44.228893Z"
    }
   },
   "outputs": [],
   "source": [
    "plt.show()"
   ]
  },
  {
   "cell_type": "code",
   "execution_count": null,
   "metadata": {
    "execution": {
     "iopub.execute_input": "2021-11-15T19:50:01.740241Z",
     "iopub.status.busy": "2021-11-15T19:50:01.739957Z",
     "iopub.status.idle": "2021-11-15T19:50:04.59699Z",
     "shell.execute_reply": "2021-11-15T19:50:04.596144Z",
     "shell.execute_reply.started": "2021-11-15T19:50:01.740212Z"
    }
   },
   "outputs": [],
   "source": [
    "# Plot training & validation loss values\n",
    "plt.plot(history.history['loss'])\n",
    "plt.plot(history.history['val_loss'])\n",
    "plt.title('Model loss')\n",
    "plt.ylabel('Loss')\n",
    "plt.figure(figsize=(100, 100))\n",
    "plt.savefig(\"Model Loss\")\n",
    "plt.show()"
   ]
  },
  {
   "cell_type": "code",
   "execution_count": null,
   "metadata": {
    "execution": {
     "iopub.execute_input": "2021-11-15T19:50:08.473066Z",
     "iopub.status.busy": "2021-11-15T19:50:08.472772Z",
     "iopub.status.idle": "2021-11-15T19:50:11.246755Z",
     "shell.execute_reply": "2021-11-15T19:50:11.246017Z",
     "shell.execute_reply.started": "2021-11-15T19:50:08.473024Z"
    }
   },
   "outputs": [],
   "source": [
    "plt.plot(history.history['accuracy'])\n",
    "plt.plot(history.history['val_accuracy'])\n",
    "plt.title('Model accuracy')\n",
    "plt.ylabel('Accuracy')\n",
    "plt.xlabel('Epoch')\n",
    "plt.legend(['Train', 'Test'], loc='upper left')\n",
    "plt.figure(figsize=(100, 100))\n",
    "plt.savefig(\"Model Accuracy v4\")\n",
    "plt.show()"
   ]
  },
  {
   "cell_type": "markdown",
   "metadata": {},
   "source": [
    "## Finding R2 Score\n"
   ]
  },
  {
   "cell_type": "code",
   "execution_count": null,
   "metadata": {
    "execution": {
     "iopub.execute_input": "2021-11-15T19:25:39.118509Z",
     "iopub.status.busy": "2021-11-15T19:25:39.118328Z",
     "iopub.status.idle": "2021-11-15T19:25:39.221939Z",
     "shell.execute_reply": "2021-11-15T19:25:39.221289Z",
     "shell.execute_reply.started": "2021-11-15T19:25:39.118487Z"
    }
   },
   "outputs": [],
   "source": [
    "from sklearn.metrics import r2_score"
   ]
  },
  {
   "cell_type": "code",
   "execution_count": null,
   "metadata": {
    "execution": {
     "iopub.execute_input": "2021-11-15T19:25:39.223217Z",
     "iopub.status.busy": "2021-11-15T19:25:39.22286Z",
     "iopub.status.idle": "2021-11-15T19:26:08.936008Z",
     "shell.execute_reply": "2021-11-15T19:26:08.935043Z",
     "shell.execute_reply.started": "2021-11-15T19:25:39.223184Z"
    }
   },
   "outputs": [],
   "source": [
    "## Finding R2 Score\n",
    "y_pred = [np.argmax(i) for i in model.predict(train_input)]\n",
    "y_true = train['label'].to_numpy()\n",
    "r2_score(y_true, y_pred)\n"
   ]
  },
  {
   "cell_type": "code",
   "execution_count": null,
   "metadata": {
    "execution": {
     "iopub.execute_input": "2021-11-15T19:26:08.939875Z",
     "iopub.status.busy": "2021-11-15T19:26:08.939629Z",
     "iopub.status.idle": "2021-11-15T19:26:18.467541Z",
     "shell.execute_reply": "2021-11-15T19:26:18.466559Z",
     "shell.execute_reply.started": "2021-11-15T19:26:08.939848Z"
    }
   },
   "outputs": [],
   "source": [
    "pred=[np.argmax(i) for i in model.predict(test_input)]\n",
    "pd.DataFrame(pred).value_counts()"
   ]
  },
  {
   "cell_type": "markdown",
   "metadata": {},
   "source": [
    "## Saving Output"
   ]
  },
  {
   "cell_type": "code",
   "execution_count": null,
   "metadata": {
    "execution": {
     "iopub.execute_input": "2021-11-15T19:26:18.469125Z",
     "iopub.status.busy": "2021-11-15T19:26:18.468899Z",
     "iopub.status.idle": "2021-11-15T19:26:18.494823Z",
     "shell.execute_reply": "2021-11-15T19:26:18.493789Z",
     "shell.execute_reply.started": "2021-11-15T19:26:18.469099Z"
    }
   },
   "outputs": [],
   "source": [
    "pd.DataFrame({'id':test.id,\n",
    "              'prediction':pred}).to_csv('output.csv',index=False)"
   ]
  },
  {
   "cell_type": "code",
   "execution_count": null,
   "metadata": {
    "execution": {
     "iopub.execute_input": "2021-11-15T19:26:18.49645Z",
     "iopub.status.busy": "2021-11-15T19:26:18.496189Z",
     "iopub.status.idle": "2021-11-15T19:26:18.505126Z",
     "shell.execute_reply": "2021-11-15T19:26:18.504095Z",
     "shell.execute_reply.started": "2021-11-15T19:26:18.496422Z"
    }
   },
   "outputs": [],
   "source": [
    "final_pred=pd.DataFrame({'id':test.id,\n",
    "              'prediction':pred})"
   ]
  },
  {
   "cell_type": "code",
   "execution_count": null,
   "metadata": {
    "execution": {
     "iopub.execute_input": "2021-11-15T19:26:18.507474Z",
     "iopub.status.busy": "2021-11-15T19:26:18.507085Z",
     "iopub.status.idle": "2021-11-15T19:26:18.523794Z",
     "shell.execute_reply": "2021-11-15T19:26:18.522597Z",
     "shell.execute_reply.started": "2021-11-15T19:26:18.507427Z"
    }
   },
   "outputs": [],
   "source": [
    "final_pred.head()"
   ]
  }
 ],
 "metadata": {
  "kernelspec": {
   "display_name": "Python 3",
   "language": "python",
   "name": "python3"
  },
  "language_info": {
   "codemirror_mode": {
    "name": "ipython",
    "version": 3
   },
   "file_extension": ".py",
   "mimetype": "text/x-python",
   "name": "python",
   "nbconvert_exporter": "python",
   "pygments_lexer": "ipython3",
   "version": "3.8.8"
  }
 },
 "nbformat": 4,
 "nbformat_minor": 4
}
